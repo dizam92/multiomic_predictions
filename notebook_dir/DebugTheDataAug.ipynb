{
 "cells": [
  {
   "cell_type": "markdown",
   "id": "7619933c",
   "metadata": {},
   "source": [
    "# Parameters"
   ]
  },
  {
   "cell_type": "code",
   "execution_count": 2,
   "id": "002a1b18",
   "metadata": {},
   "outputs": [],
   "source": [
    "data_size = 2000; dataset_views_to_consider = 'all'; seed = 42\n",
    "d_input_enc=2000; nb_classes_dec=33; class_weights=[]; d_model_enc_dec=1024; d_ff_enc_dec=1024; n_heads_enc_dec=16; n_layers_enc=2; n_layers_dec=2; activation=\"relu\"; dropout=0.1 \n",
    "model_params = {\n",
    "    \"d_input_enc\": 2000, \n",
    "    \"lr\": 6.033193735866575e-05,\n",
    "    \"nb_classes_dec\": 33,\n",
    "    \"early_stopping\": True,\n",
    "    \"dropout\": 0.16171970479206027,\n",
    "    \"weight_decay\": 5.4598394312421854e-05,\n",
    "    \"activation\": \"relu\",\n",
    "    \"optimizer\": \"Adam\",\n",
    "    \"lr_scheduler\": \"cosine_with_restarts\",\n",
    "    \"loss\": \"ce\",\n",
    "    \"n_epochs\": 1, \n",
    "    \"batch_size\": 256,\n",
    "    \"class_weights\":[4.03557312, 0.85154295, 0.30184775, 1.18997669, 8.25050505,\n",
    "            0.72372851, 7.73484848, 1.81996435, 0.62294082, 0.61468995,\n",
    "            4.07992008, 0.49969411, 1.07615283, 1.85636364, 0.7018388 ,\n",
    "            0.84765463, 0.60271547, 0.62398778, 4.26750261, 0.61878788,\n",
    "            1.89424861, 1.98541565, 0.65595888, 2.05123054, 1.37001006,\n",
    "            0.77509964, 0.76393565, 2.67102681, 0.64012539, 2.94660895,\n",
    "            0.64012539, 6.51355662, 4.64090909],\n",
    "    \"d_model_enc_dec\": 512,\n",
    "    \"n_heads_enc_dec\": 16,\n",
    "    \"n_layers_enc\": 10,\n",
    "    \"n_layers_dec\": 1\n",
    "}\n",
    "d_ff_enc_dec_value = model_params[\"d_model_enc_dec\"] * 4\n",
    "model_params[\"d_ff_enc_dec\"] = d_ff_enc_dec_value\n",
    "\n",
    "fit_params = {\n",
    "    \"nb_ckpts\":1, \n",
    "    \"verbose\":1\n",
    "}\n",
    "\n",
    "predict_params = {\n",
    "    \"nb_ckpts\":1, \n",
    "    \"scores_fname\": \"transformer_scores.json\"\n",
    "}\n",
    "\n",
    "training_params = {\n",
    "    \"model_params\": model_params,\n",
    "    \"fit_params\": fit_params,\n",
    "    \"predict_params\": predict_params,\n",
    "    \"data_size\": int('2000'),\n",
    "    \"dataset_views_to_consider\": 'all',\n",
    "    \"exp_type\": \"data_aug\",\n",
    "    \"seed\": 42\n",
    "}\n",
    "output_path = './'\n",
    "# salloc --time=02:00:00 --nodes=1 --gres=gpu:1 --ntasks-per-node=32  --mem-per-cpu=127000M  --account=rrg-corbeilj-ac\n",
    "# salloc --time=06:00:00 --gres=gpu:v100:1 --cpus-per-task=3 --mem=32000M --account=rrg-corbeilj-ac"
   ]
  },
  {
   "cell_type": "markdown",
   "id": "d54f0496",
   "metadata": {},
   "source": [
    "# Import section"
   ]
  },
  {
   "cell_type": "code",
   "execution_count": 6,
   "id": "b92bf634",
   "metadata": {},
   "outputs": [],
   "source": [
    "import argparse\n",
    "import os\n",
    "import json\n",
    "import torch\n",
    "import random\n",
    "import natsort\n",
    "import numpy as np\n",
    "import pandas as pd\n",
    "from tqdm import tqdm\n",
    "from argparse import Namespace\n",
    "\n",
    "\n",
    "import optuna\n",
    "from optuna.study import StudyDirection\n",
    "from packaging import version\n",
    "from multiomic_modeling.models.trainer import MultiomicTrainer\n",
    "from multiomic_modeling.models.trainer_multimodal import MultiomicTrainerMultiModal\n",
    "from multiomic_modeling.models.base import BaseTrainer\n",
    "from multiomic_modeling.data.data_loader import MultiomicDatasetDataAug, MultiomicDatasetNormal, MultiomicDatasetBuilder, SubsetRandomSampler\n",
    "from multiomic_modeling.models.models import MultiomicPredictionModel, MultiomicPredictionModelMultiModal\n",
    "from multiomic_modeling.models.utils import expt_params_formatter, c_collate\n",
    "from multiomic_modeling.loss_and_metrics import ClfMetrics, NumpyEncoder\n",
    "from multiomic_modeling.utilities import params_to_hash\n",
    "from multiomic_modeling.torch_utils import to_numpy, totensor, get_optimizer\n",
    "from multiomic_modeling import logging\n",
    "from torch.utils.data import DataLoader\n",
    "from transformers.optimization import Adafactor, AdamW, \\\n",
    "    get_cosine_schedule_with_warmup, get_cosine_with_hard_restarts_schedule_with_warmup\n",
    "\n",
    "import pytorch_lightning as pl\n",
    "import torch\n",
    "\n",
    "if version.parse(pl.__version__) < version.parse(\"1.0.2\"):\n",
    "    raise RuntimeError(\"PyTorch Lightning>=1.0.2 is required for this example.\")\n",
    "\n"
   ]
  },
  {
   "cell_type": "code",
   "execution_count": 17,
   "id": "53443d60",
   "metadata": {},
   "outputs": [],
   "source": [
    "dataset_views_to_consider='3_main_omics'\n",
    "dataset = MultiomicDatasetNormal(data_size=data_size, views_to_consider=dataset_views_to_consider)\n",
    "train, test, valid = MultiomicDatasetBuilder().multiomic_data_normal_builder(dataset=dataset, \n",
    "                                                                                 test_size=0.2, \n",
    "                                                                                 valid_size=0.1, \n",
    "                                                                                 random_state=seed)\n",
    "dataset_augmented = MultiomicDatasetDataAug(train_dataset=train, data_size=data_size, views_to_consider=dataset_views_to_consider)\n",
    "train_augmented = MultiomicDatasetBuilder.multiomic_data_aug_builder(augmented_dataset=dataset_augmented)\n",
    "train_data_loader = MultiomicDatasetBuilder().multiomic_dataset_loader(dataset=train, batch_size=len(train))\n",
    "train_augmented_data_loader = MultiomicDatasetBuilder().multiomic_dataset_loader(dataset=train_augmented, batch_size=len(train_augmented))\n",
    "test_data_loader = MultiomicDatasetBuilder().multiomic_dataset_loader(dataset=test, batch_size=len(test))\n",
    "valid_data_loader = MultiomicDatasetBuilder().multiomic_dataset_loader(dataset=valid, batch_size=len(valid))\n"
   ]
  },
  {
   "cell_type": "code",
   "execution_count": 19,
   "id": "959a132e",
   "metadata": {},
   "outputs": [
    {
     "data": {
      "text/plain": [
       "(8465, 3)"
      ]
     },
     "execution_count": 19,
     "metadata": {},
     "output_type": "execute_result"
    }
   ],
   "source": [
    "train_dataset_array = next(iter(train_data_loader))[0][-1].numpy()\n",
    "# next(iter(train_data_loader))[0][-1]"
   ]
  },
  {
   "cell_type": "code",
   "execution_count": 22,
   "id": "2fdf6170",
   "metadata": {},
   "outputs": [
    {
     "name": "stdout",
     "output_type": "stream",
     "text": [
      "(array([], dtype=int64),)\n",
      "(array([], dtype=int64),)\n",
      "(array([], dtype=int64),)\n",
      "(array([], dtype=int64),)\n",
      "(array([], dtype=int64),)\n",
      "(array([0]),)\n",
      "(array([], dtype=int64),)\n",
      "(array([], dtype=int64),)\n",
      "(array([], dtype=int64),)\n",
      "(array([0]),)\n"
     ]
    }
   ],
   "source": [
    "for el in train_dataset_array[:10]: \n",
    "    print(np.where(el == False))"
   ]
  },
  {
   "cell_type": "code",
   "execution_count": 24,
   "id": "d36d1fab",
   "metadata": {},
   "outputs": [],
   "source": [
    "f = np.where(train_dataset_array == False)"
   ]
  },
  {
   "cell_type": "code",
   "execution_count": 28,
   "id": "4c53cc58",
   "metadata": {},
   "outputs": [
    {
     "data": {
      "text/plain": [
       "(2755,)"
      ]
     },
     "execution_count": 28,
     "metadata": {},
     "output_type": "execute_result"
    }
   ],
   "source": [
    "f[1].shape"
   ]
  },
  {
   "cell_type": "code",
   "execution_count": 4,
   "id": "7b651f36",
   "metadata": {},
   "outputs": [
    {
     "name": "stdout",
     "output_type": "stream",
     "text": [
      "8465\n",
      "((array([[ 0.974738,  0.947639,  0.966306, ...,  0.644351,  0.75878 ,\n",
      "         0.148801],\n",
      "       [ 5.93    , 16.6     ,  1.58    , ...,  0.      ,  0.      ,\n",
      "         0.      ],\n",
      "       [12.79    , 10.44    ,  0.      , ...,  7.01    ,  7.9     ,\n",
      "         3.7     ]]), array([ True,  True,  True])), 2, 'TCGA-D8-A1XC-01')\n",
      "3\n",
      "2\n",
      "25395\n",
      "((array([[ 0.962224 ,  0.963145 ,  0.1115   , ...,  0.361789 ,  0.0362509,\n",
      "         0.0450632],\n",
      "       [ 3.64     ,  9.19     ,  3.04     , ...,  0.       ,  0.       ,\n",
      "         0.       ],\n",
      "       [12.96     ,  0.       ,  0.       , ...,  7.54     ,  6.62     ,\n",
      "         4.68     ]]), array([ True,  True,  True]), array([[ 0.962224 ,  0.963145 ,  0.1115   , ...,  0.361789 ,  0.0362509,\n",
      "         0.0450632],\n",
      "       [ 3.64     ,  9.19     ,  3.04     , ...,  0.       ,  0.       ,\n",
      "         0.       ],\n",
      "       [12.96     ,  0.       ,  0.       , ...,  7.54     ,  6.62     ,\n",
      "         4.68     ]]), array([ True,  True,  True])), 0, 'TCGA-OR-A5J2-01')\n",
      "3\n",
      "4\n"
     ]
    }
   ],
   "source": [
    "# print(len(train.indices))\n",
    "# print(train[0])\n",
    "# print(len(train[0]))\n",
    "# print(len(train[0][0]))\n",
    "\n",
    "# print(len(train_augmented.indices))\n",
    "# print(train_augmented[0])\n",
    "# print(len(train_augmented[0]))\n",
    "# print(len(train_augmented[0][0]))"
   ]
  },
  {
   "cell_type": "code",
   "execution_count": 5,
   "id": "77c26758",
   "metadata": {},
   "outputs": [
    {
     "name": "stdout",
     "output_type": "stream",
     "text": [
      ">>> Training configuration : \n",
      "{\n",
      "  \"data_size\": 2000,\n",
      "  \"dataset_views_to_consider\": \"all\",\n",
      "  \"exp_type\": \"data_aug\",\n",
      "  \"fit_params\": {\n",
      "    \"nb_ckpts\": 1,\n",
      "    \"verbose\": 1\n",
      "  },\n",
      "  \"kwargs\": {},\n",
      "  \"model_params\": {\n",
      "    \"activation\": \"relu\",\n",
      "    \"batch_size\": 256,\n",
      "    \"class_weights\": [\n",
      "      4.03557312,\n",
      "      0.85154295,\n",
      "      0.30184775,\n",
      "      1.18997669,\n",
      "      8.25050505,\n",
      "      0.72372851,\n",
      "      7.73484848,\n",
      "      1.81996435,\n",
      "      0.62294082,\n",
      "      0.61468995,\n",
      "      4.07992008,\n",
      "      0.49969411,\n",
      "      1.07615283,\n",
      "      1.85636364,\n",
      "      0.7018388,\n",
      "      0.84765463,\n",
      "      0.60271547,\n",
      "      0.62398778,\n",
      "      4.26750261,\n",
      "      0.61878788,\n",
      "      1.89424861,\n",
      "      1.98541565,\n",
      "      0.65595888,\n",
      "      2.05123054,\n",
      "      1.37001006,\n",
      "      0.77509964,\n",
      "      0.76393565,\n",
      "      2.67102681,\n",
      "      0.64012539,\n",
      "      2.94660895,\n",
      "      0.64012539,\n",
      "      6.51355662,\n",
      "      4.64090909\n",
      "    ],\n",
      "    \"d_ff_enc_dec\": 2048,\n",
      "    \"d_input_enc\": 2000,\n",
      "    \"d_model_enc_dec\": 512,\n",
      "    \"dropout\": 0.16171970479206027,\n",
      "    \"early_stopping\": true,\n",
      "    \"loss\": \"ce\",\n",
      "    \"lr\": 6.033193735866575e-05,\n",
      "    \"lr_scheduler\": \"cosine_with_restarts\",\n",
      "    \"n_epochs\": 1,\n",
      "    \"n_heads_enc_dec\": 16,\n",
      "    \"n_layers_dec\": 1,\n",
      "    \"n_layers_enc\": 10,\n",
      "    \"nb_classes_dec\": 33,\n",
      "    \"optimizer\": \"Adam\",\n",
      "    \"weight_decay\": 5.4598394312421854e-05\n",
      "  },\n",
      "  \"predict_params\": {\n",
      "    \"nb_ckpts\": 1,\n",
      "    \"scores_fname\": \"transformer_scores.json\"\n",
      "  },\n",
      "  \"seed\": 42\n",
      "}\n",
      "[INFO] Training\n"
     ]
    },
    {
     "name": "stderr",
     "output_type": "stream",
     "text": [
      "/home/maoss2/miniconda3/lib/python3.8/site-packages/pytorch_lightning/utilities/distributed.py:52: UserWarning: Checkpoint directory ./649c350f57b9ffb4277a24511a90696abae3269a/checkpoints exists and is not empty.\n",
      "  warnings.warn(*args, **kwargs)\n",
      "GPU available: True, used: True\n",
      "TPU available: False, using: 0 TPU cores\n",
      "GPU available: True, used: True\n",
      "TPU available: False, using: 0 TPU cores\n",
      "LOCAL_RANK: 0 - CUDA_VISIBLE_DEVICES: [0]\n",
      "Set SLURM handle signals.\n",
      "\n",
      "  | Name    | Type                     | Params\n",
      "-----------------------------------------------------\n",
      "0 | network | MultiomicPredictionModel | 36.8 M\n",
      "-----------------------------------------------------\n",
      "36.8 M    Trainable params\n",
      "0         Non-trainable params\n",
      "36.8 M    Total params\n",
      "147.085   Total estimated model params size (MB)\n"
     ]
    },
    {
     "data": {
      "application/vnd.jupyter.widget-view+json": {
       "model_id": "",
       "version_major": 2,
       "version_minor": 0
      },
      "text/plain": [
       "Validation sanity check: 0it [00:00, ?it/s]"
      ]
     },
     "metadata": {},
     "output_type": "display_data"
    },
    {
     "data": {
      "application/vnd.jupyter.widget-view+json": {
       "model_id": "18daa44e1d874fabbe6c8b103a190cbf",
       "version_major": 2,
       "version_minor": 0
      },
      "text/plain": [
       "Training: 0it [00:00, ?it/s]"
      ]
     },
     "metadata": {},
     "output_type": "display_data"
    },
    {
     "name": "stderr",
     "output_type": "stream",
     "text": [
      "/home/maoss2/miniconda3/lib/python3.8/site-packages/pytorch_lightning/utilities/distributed.py:52: UserWarning: Detected KeyboardInterrupt, attempting graceful shutdown...\n",
      "  warnings.warn(*args, **kwargs)\n",
      "Process Process-8:\n",
      "Process Process-6:\n",
      "Process Process-7:\n",
      "Process Process-5:\n",
      "Exception ignored in: <function _MultiProcessingDataLoaderIter.__del__ at 0x2b09f0b4ed30>\n",
      "Traceback (most recent call last):\n",
      "  File \"/home/maoss2/miniconda3/lib/python3.8/site-packages/torch/utils/data/dataloader.py\", line 1203, in __del__\n",
      "    self._shutdown_workers()\n",
      "  File \"/home/maoss2/miniconda3/lib/python3.8/site-packages/torch/utils/data/dataloader.py\", line 1177, in _shutdown_workers\n",
      "    w.join(timeout=_utils.MP_STATUS_CHECK_INTERVAL)\n",
      "  File \"/home/maoss2/miniconda3/lib/python3.8/multiprocessing/process.py\", line 149, in join\n",
      "    res = self._popen.wait(timeout)\n",
      "  File \"/home/maoss2/miniconda3/lib/python3.8/multiprocessing/popen_fork.py\", line 44, in wait\n",
      "    if not wait([self.sentinel], timeout):\n",
      "  File \"/home/maoss2/miniconda3/lib/python3.8/multiprocessing/connection.py\", line 931, in wait\n",
      "    ready = selector.select(timeout)\n",
      "  File \"/home/maoss2/miniconda3/lib/python3.8/selectors.py\", line 415, in select\n",
      "    fd_event_list = self._selector.poll(timeout)\n",
      "KeyboardInterrupt: \n",
      "Traceback (most recent call last):\n",
      "Traceback (most recent call last):\n",
      "Traceback (most recent call last):\n",
      "Traceback (most recent call last):\n",
      "  File \"/home/maoss2/miniconda3/lib/python3.8/multiprocessing/process.py\", line 318, in _bootstrap\n",
      "    util._exit_function()\n",
      "  File \"/home/maoss2/miniconda3/lib/python3.8/multiprocessing/process.py\", line 318, in _bootstrap\n",
      "    util._exit_function()\n",
      "  File \"/home/maoss2/miniconda3/lib/python3.8/multiprocessing/process.py\", line 318, in _bootstrap\n",
      "    util._exit_function()\n",
      "  File \"/home/maoss2/miniconda3/lib/python3.8/multiprocessing/process.py\", line 318, in _bootstrap\n",
      "    util._exit_function()\n",
      "  File \"/home/maoss2/miniconda3/lib/python3.8/multiprocessing/util.py\", line 360, in _exit_function\n",
      "    _run_finalizers()\n",
      "  File \"/home/maoss2/miniconda3/lib/python3.8/multiprocessing/util.py\", line 360, in _exit_function\n",
      "    _run_finalizers()\n",
      "  File \"/home/maoss2/miniconda3/lib/python3.8/multiprocessing/util.py\", line 360, in _exit_function\n",
      "    _run_finalizers()\n",
      "  File \"/home/maoss2/miniconda3/lib/python3.8/multiprocessing/util.py\", line 360, in _exit_function\n",
      "    _run_finalizers()\n",
      "  File \"/home/maoss2/miniconda3/lib/python3.8/multiprocessing/util.py\", line 300, in _run_finalizers\n",
      "    finalizer()\n",
      "  File \"/home/maoss2/miniconda3/lib/python3.8/multiprocessing/util.py\", line 300, in _run_finalizers\n",
      "    finalizer()\n",
      "  File \"/home/maoss2/miniconda3/lib/python3.8/multiprocessing/util.py\", line 300, in _run_finalizers\n",
      "    finalizer()\n",
      "  File \"/home/maoss2/miniconda3/lib/python3.8/multiprocessing/util.py\", line 300, in _run_finalizers\n",
      "    finalizer()\n",
      "  File \"/home/maoss2/miniconda3/lib/python3.8/multiprocessing/util.py\", line 224, in __call__\n",
      "    res = self._callback(*self._args, **self._kwargs)\n",
      "  File \"/home/maoss2/miniconda3/lib/python3.8/multiprocessing/util.py\", line 224, in __call__\n",
      "    res = self._callback(*self._args, **self._kwargs)\n",
      "  File \"/home/maoss2/miniconda3/lib/python3.8/multiprocessing/util.py\", line 224, in __call__\n",
      "    res = self._callback(*self._args, **self._kwargs)\n",
      "  File \"/home/maoss2/miniconda3/lib/python3.8/multiprocessing/queues.py\", line 195, in _finalize_join\n",
      "    thread.join()\n",
      "  File \"/home/maoss2/miniconda3/lib/python3.8/multiprocessing/util.py\", line 224, in __call__\n",
      "    res = self._callback(*self._args, **self._kwargs)\n",
      "/home/maoss2/miniconda3/lib/python3.8/site-packages/torch/optim/lr_scheduler.py:216: UserWarning: Please also save or load the state of the optimizer when saving or loading the scheduler.\n",
      "  warnings.warn(SAVE_STATE_WARNING, UserWarning)\n",
      "  File \"/home/maoss2/miniconda3/lib/python3.8/multiprocessing/queues.py\", line 195, in _finalize_join\n",
      "    thread.join()\n",
      "  File \"/home/maoss2/miniconda3/lib/python3.8/multiprocessing/queues.py\", line 195, in _finalize_join\n",
      "    thread.join()\n",
      "  File \"/home/maoss2/miniconda3/lib/python3.8/threading.py\", line 1011, in join\n",
      "    self._wait_for_tstate_lock()\n",
      "  File \"/home/maoss2/miniconda3/lib/python3.8/multiprocessing/queues.py\", line 195, in _finalize_join\n",
      "    thread.join()\n",
      "  File \"/home/maoss2/miniconda3/lib/python3.8/threading.py\", line 1011, in join\n",
      "    self._wait_for_tstate_lock()\n",
      "  File \"/home/maoss2/miniconda3/lib/python3.8/threading.py\", line 1011, in join\n",
      "    self._wait_for_tstate_lock()\n",
      "  File \"/home/maoss2/miniconda3/lib/python3.8/threading.py\", line 1027, in _wait_for_tstate_lock\n",
      "    elif lock.acquire(block, timeout):\n",
      "  File \"/home/maoss2/miniconda3/lib/python3.8/threading.py\", line 1011, in join\n",
      "    self._wait_for_tstate_lock()\n",
      "  File \"/home/maoss2/miniconda3/lib/python3.8/threading.py\", line 1027, in _wait_for_tstate_lock\n",
      "    elif lock.acquire(block, timeout):\n",
      "  File \"/home/maoss2/miniconda3/lib/python3.8/threading.py\", line 1027, in _wait_for_tstate_lock\n",
      "    elif lock.acquire(block, timeout):\n",
      "KeyboardInterrupt\n",
      "  File \"/home/maoss2/miniconda3/lib/python3.8/threading.py\", line 1027, in _wait_for_tstate_lock\n",
      "    elif lock.acquire(block, timeout):\n",
      "KeyboardInterrupt\n",
      "KeyboardInterrupt\n",
      "KeyboardInterrupt\n"
     ]
    },
    {
     "name": "stdout",
     "output_type": "stream",
     "text": [
      "[INFO] Testing....\n",
      "./649c350f57b9ffb4277a24511a90696abae3269a/checkpoints/epoch=0--val_loss=0.00-v1.ckpt ./649c350f57b9ffb4277a24511a90696abae3269a/checkpoints/epoch=0--val_loss=0.00-v2.ckpt ./649c350f57b9ffb4277a24511a90696abae3269a/checkpoints/epoch=0--val_loss=0.00-v3.ckpt ./649c350f57b9ffb4277a24511a90696abae3269a/checkpoints/epoch=0--val_loss=0.00-v4.ckpt ./649c350f57b9ffb4277a24511a90696abae3269a/checkpoints/epoch=0--val_loss=0.00-v5.ckpt ./649c350f57b9ffb4277a24511a90696abae3269a/checkpoints/epoch=0--val_loss=0.00-v6.ckpt ./649c350f57b9ffb4277a24511a90696abae3269a/checkpoints/epoch=0--val_loss=0.00.ckpt\n"
     ]
    },
    {
     "ename": "RuntimeError",
     "evalue": "Error(s) in loading state_dict for MultiomicTrainer:\n\tMissing key(s) in state_dict: \"network._MultiomicPredictionModel__loss.weight\". \n\tUnexpected key(s) in state_dict: \"network.decoder_views.decoder.layers.0.self_attn.in_proj_weight\", \"network.decoder_views.decoder.layers.0.self_attn.in_proj_bias\", \"network.decoder_views.decoder.layers.0.self_attn.out_proj.weight\", \"network.decoder_views.decoder.layers.0.self_attn.out_proj.bias\", \"network.decoder_views.decoder.layers.0.multihead_attn.in_proj_weight\", \"network.decoder_views.decoder.layers.0.multihead_attn.in_proj_bias\", \"network.decoder_views.decoder.layers.0.multihead_attn.out_proj.weight\", \"network.decoder_views.decoder.layers.0.multihead_attn.out_proj.bias\", \"network.decoder_views.decoder.layers.0.linear1.weight\", \"network.decoder_views.decoder.layers.0.linear1.bias\", \"network.decoder_views.decoder.layers.0.linear2.weight\", \"network.decoder_views.decoder.layers.0.linear2.bias\", \"network.decoder_views.decoder.layers.0.norm1.weight\", \"network.decoder_views.decoder.layers.0.norm1.bias\", \"network.decoder_views.decoder.layers.0.norm2.weight\", \"network.decoder_views.decoder.layers.0.norm2.bias\", \"network.decoder_views.decoder.layers.0.norm3.weight\", \"network.decoder_views.decoder.layers.0.norm3.bias\", \"network.decoder_views.decoder.norm.weight\", \"network.decoder_views.decoder.norm.bias\", \"network.decoder_views.output.weight\", \"network.decoder_views.output.bias\", \"network._MultiomicPredictionModelMultiModal__loss.weight\". ",
     "output_type": "error",
     "traceback": [
      "\u001b[0;31m---------------------------------------------------------------------------\u001b[0m",
      "\u001b[0;31mRuntimeError\u001b[0m                              Traceback (most recent call last)",
      "\u001b[0;32m<ipython-input-5-69d3e868ad71>\u001b[0m in \u001b[0;36m<module>\u001b[0;34m\u001b[0m\n\u001b[0;32m----> 1\u001b[0;31m \u001b[0mmodel\u001b[0m \u001b[0;34m=\u001b[0m \u001b[0mMultiomicTrainer\u001b[0m\u001b[0;34m.\u001b[0m\u001b[0mrun_experiment\u001b[0m\u001b[0;34m(\u001b[0m\u001b[0;34m**\u001b[0m\u001b[0mtraining_params\u001b[0m\u001b[0;34m,\u001b[0m \u001b[0moutput_path\u001b[0m\u001b[0;34m=\u001b[0m\u001b[0moutput_path\u001b[0m\u001b[0;34m)\u001b[0m\u001b[0;34m\u001b[0m\u001b[0;34m\u001b[0m\u001b[0m\n\u001b[0m",
      "\u001b[0;32m~/PycharmProjects/multiomic_predictions/multiomic_modeling/models/trainer.py\u001b[0m in \u001b[0;36mrun_experiment\u001b[0;34m(model_params, fit_params, predict_params, data_size, dataset_views_to_consider, exp_type, seed, output_path, outfmt_keys, **kwargs)\u001b[0m\n\u001b[1;32m    179\u001b[0m         \u001b[0mpreds_fname\u001b[0m \u001b[0;34m=\u001b[0m \u001b[0mos\u001b[0m\u001b[0;34m.\u001b[0m\u001b[0mpath\u001b[0m\u001b[0;34m.\u001b[0m\u001b[0mjoin\u001b[0m\u001b[0;34m(\u001b[0m\u001b[0mout_prefix\u001b[0m\u001b[0;34m,\u001b[0m \u001b[0;34m\"naive_predictions.txt\"\u001b[0m\u001b[0;34m)\u001b[0m\u001b[0;34m\u001b[0m\u001b[0;34m\u001b[0m\u001b[0m\n\u001b[1;32m    180\u001b[0m         \u001b[0mscores_fname\u001b[0m \u001b[0;34m=\u001b[0m \u001b[0mos\u001b[0m\u001b[0;34m.\u001b[0m\u001b[0mpath\u001b[0m\u001b[0;34m.\u001b[0m\u001b[0mjoin\u001b[0m\u001b[0;34m(\u001b[0m\u001b[0mout_prefix\u001b[0m\u001b[0;34m,\u001b[0m \u001b[0mpredict_params\u001b[0m\u001b[0;34m.\u001b[0m\u001b[0mget\u001b[0m\u001b[0;34m(\u001b[0m\u001b[0;34m'scores_fname'\u001b[0m\u001b[0;34m,\u001b[0m \u001b[0;34m\"naive_scores.txt\"\u001b[0m\u001b[0;34m)\u001b[0m\u001b[0;34m)\u001b[0m\u001b[0;34m\u001b[0m\u001b[0;34m\u001b[0m\u001b[0m\n\u001b[0;32m--> 181\u001b[0;31m         \u001b[0mscores\u001b[0m \u001b[0;34m=\u001b[0m \u001b[0mmodel\u001b[0m\u001b[0;34m.\u001b[0m\u001b[0mscore\u001b[0m\u001b[0;34m(\u001b[0m\u001b[0mdataset\u001b[0m\u001b[0;34m=\u001b[0m\u001b[0mtest\u001b[0m\u001b[0;34m,\u001b[0m \u001b[0martifact_dir\u001b[0m\u001b[0;34m=\u001b[0m\u001b[0mout_prefix\u001b[0m\u001b[0;34m,\u001b[0m \u001b[0mnb_ckpts\u001b[0m\u001b[0;34m=\u001b[0m\u001b[0mpredict_params\u001b[0m\u001b[0;34m.\u001b[0m\u001b[0mget\u001b[0m\u001b[0;34m(\u001b[0m\u001b[0;34m'nb_ckpts'\u001b[0m\u001b[0;34m,\u001b[0m \u001b[0;36m1\u001b[0m\u001b[0;34m)\u001b[0m\u001b[0;34m,\u001b[0m \u001b[0mscores_fname\u001b[0m\u001b[0;34m=\u001b[0m\u001b[0mscores_fname\u001b[0m\u001b[0;34m)\u001b[0m\u001b[0;34m\u001b[0m\u001b[0;34m\u001b[0m\u001b[0m\n\u001b[0m\u001b[1;32m    182\u001b[0m \u001b[0;34m\u001b[0m\u001b[0m\n\u001b[1;32m    183\u001b[0m         \u001b[0;32mreturn\u001b[0m \u001b[0mmodel\u001b[0m\u001b[0;34m\u001b[0m\u001b[0;34m\u001b[0m\u001b[0m\n",
      "\u001b[0;32m~/PycharmProjects/multiomic_predictions/multiomic_modeling/models/trainer.py\u001b[0m in \u001b[0;36mscore\u001b[0;34m(self, dataset, artifact_dir, nb_ckpts, scores_fname)\u001b[0m\n\u001b[1;32m     98\u001b[0m         \u001b[0mprint\u001b[0m\u001b[0;34m(\u001b[0m\u001b[0;34m*\u001b[0m\u001b[0mckpt_fnames\u001b[0m\u001b[0;34m)\u001b[0m\u001b[0;34m\u001b[0m\u001b[0;34m\u001b[0m\u001b[0m\n\u001b[1;32m     99\u001b[0m         \u001b[0mckpt_fnames\u001b[0m \u001b[0;34m=\u001b[0m \u001b[0mckpt_fnames\u001b[0m\u001b[0;34m[\u001b[0m\u001b[0;34m:\u001b[0m\u001b[0mnb_ckpts\u001b[0m\u001b[0;34m]\u001b[0m\u001b[0;34m\u001b[0m\u001b[0;34m\u001b[0m\u001b[0m\n\u001b[0;32m--> 100\u001b[0;31m         \u001b[0mself\u001b[0m\u001b[0;34m.\u001b[0m\u001b[0mload_average_weights\u001b[0m\u001b[0;34m(\u001b[0m\u001b[0mckpt_fnames\u001b[0m\u001b[0;34m)\u001b[0m\u001b[0;34m\u001b[0m\u001b[0;34m\u001b[0m\u001b[0m\n\u001b[0m\u001b[1;32m    101\u001b[0m         \u001b[0mbatch_size\u001b[0m \u001b[0;34m=\u001b[0m \u001b[0mself\u001b[0m\u001b[0;34m.\u001b[0m\u001b[0mhparams\u001b[0m\u001b[0;34m.\u001b[0m\u001b[0mbatch_size\u001b[0m\u001b[0;34m\u001b[0m\u001b[0;34m\u001b[0m\u001b[0m\n\u001b[1;32m    102\u001b[0m         \u001b[0mploader\u001b[0m \u001b[0;34m=\u001b[0m \u001b[0mDataLoader\u001b[0m\u001b[0;34m(\u001b[0m\u001b[0mdataset\u001b[0m\u001b[0;34m,\u001b[0m \u001b[0mcollate_fn\u001b[0m\u001b[0;34m=\u001b[0m\u001b[0mc_collate\u001b[0m\u001b[0;34m,\u001b[0m \u001b[0mbatch_size\u001b[0m\u001b[0;34m=\u001b[0m\u001b[0mbatch_size\u001b[0m\u001b[0;34m,\u001b[0m \u001b[0mshuffle\u001b[0m\u001b[0;34m=\u001b[0m\u001b[0;32mFalse\u001b[0m\u001b[0;34m)\u001b[0m\u001b[0;34m\u001b[0m\u001b[0;34m\u001b[0m\u001b[0m\n",
      "\u001b[0;32m~/PycharmProjects/multiomic_predictions/multiomic_modeling/models/trainer.py\u001b[0m in \u001b[0;36mload_average_weights\u001b[0;34m(self, file_paths)\u001b[0m\n\u001b[1;32m     78\u001b[0m         \u001b[0mstate\u001b[0m \u001b[0;34m=\u001b[0m \u001b[0;34m{\u001b[0m\u001b[0;34m}\u001b[0m\u001b[0;34m\u001b[0m\u001b[0;34m\u001b[0m\u001b[0m\n\u001b[1;32m     79\u001b[0m         \u001b[0;32mfor\u001b[0m \u001b[0mfile_path\u001b[0m \u001b[0;32min\u001b[0m \u001b[0mfile_paths\u001b[0m\u001b[0;34m:\u001b[0m\u001b[0;34m\u001b[0m\u001b[0;34m\u001b[0m\u001b[0m\n\u001b[0;32m---> 80\u001b[0;31m             \u001b[0mstate_new\u001b[0m \u001b[0;34m=\u001b[0m \u001b[0mMultiomicTrainer\u001b[0m\u001b[0;34m.\u001b[0m\u001b[0mload_from_checkpoint\u001b[0m\u001b[0;34m(\u001b[0m\u001b[0mfile_path\u001b[0m\u001b[0;34m,\u001b[0m \u001b[0mmap_location\u001b[0m\u001b[0;34m=\u001b[0m\u001b[0mself\u001b[0m\u001b[0;34m.\u001b[0m\u001b[0mdevice\u001b[0m\u001b[0;34m)\u001b[0m\u001b[0;34m.\u001b[0m\u001b[0mstate_dict\u001b[0m\u001b[0;34m(\u001b[0m\u001b[0;34m)\u001b[0m\u001b[0;34m\u001b[0m\u001b[0;34m\u001b[0m\u001b[0m\n\u001b[0m\u001b[1;32m     81\u001b[0m             \u001b[0mkeys\u001b[0m \u001b[0;34m=\u001b[0m \u001b[0mstate\u001b[0m\u001b[0;34m.\u001b[0m\u001b[0mkeys\u001b[0m\u001b[0;34m(\u001b[0m\u001b[0;34m)\u001b[0m\u001b[0;34m\u001b[0m\u001b[0;34m\u001b[0m\u001b[0m\n\u001b[1;32m     82\u001b[0m \u001b[0;34m\u001b[0m\u001b[0m\n",
      "\u001b[0;32m~/miniconda3/lib/python3.8/site-packages/pytorch_lightning/core/saving.py\u001b[0m in \u001b[0;36mload_from_checkpoint\u001b[0;34m(cls, checkpoint_path, map_location, hparams_file, strict, **kwargs)\u001b[0m\n\u001b[1;32m    155\u001b[0m         \u001b[0mcheckpoint\u001b[0m\u001b[0;34m[\u001b[0m\u001b[0mcls\u001b[0m\u001b[0;34m.\u001b[0m\u001b[0mCHECKPOINT_HYPER_PARAMS_KEY\u001b[0m\u001b[0;34m]\u001b[0m\u001b[0;34m.\u001b[0m\u001b[0mupdate\u001b[0m\u001b[0;34m(\u001b[0m\u001b[0mkwargs\u001b[0m\u001b[0;34m)\u001b[0m\u001b[0;34m\u001b[0m\u001b[0;34m\u001b[0m\u001b[0m\n\u001b[1;32m    156\u001b[0m \u001b[0;34m\u001b[0m\u001b[0m\n\u001b[0;32m--> 157\u001b[0;31m         \u001b[0mmodel\u001b[0m \u001b[0;34m=\u001b[0m \u001b[0mcls\u001b[0m\u001b[0;34m.\u001b[0m\u001b[0m_load_model_state\u001b[0m\u001b[0;34m(\u001b[0m\u001b[0mcheckpoint\u001b[0m\u001b[0;34m,\u001b[0m \u001b[0mstrict\u001b[0m\u001b[0;34m=\u001b[0m\u001b[0mstrict\u001b[0m\u001b[0;34m,\u001b[0m \u001b[0;34m**\u001b[0m\u001b[0mkwargs\u001b[0m\u001b[0;34m)\u001b[0m\u001b[0;34m\u001b[0m\u001b[0;34m\u001b[0m\u001b[0m\n\u001b[0m\u001b[1;32m    158\u001b[0m         \u001b[0;32mreturn\u001b[0m \u001b[0mmodel\u001b[0m\u001b[0;34m\u001b[0m\u001b[0;34m\u001b[0m\u001b[0m\n\u001b[1;32m    159\u001b[0m \u001b[0;34m\u001b[0m\u001b[0m\n",
      "\u001b[0;32m~/miniconda3/lib/python3.8/site-packages/pytorch_lightning/core/saving.py\u001b[0m in \u001b[0;36m_load_model_state\u001b[0;34m(cls, checkpoint, strict, **cls_kwargs_new)\u001b[0m\n\u001b[1;32m    203\u001b[0m \u001b[0;34m\u001b[0m\u001b[0m\n\u001b[1;32m    204\u001b[0m         \u001b[0;31m# load the state_dict on the model automatically\u001b[0m\u001b[0;34m\u001b[0m\u001b[0;34m\u001b[0m\u001b[0;34m\u001b[0m\u001b[0m\n\u001b[0;32m--> 205\u001b[0;31m         \u001b[0mmodel\u001b[0m\u001b[0;34m.\u001b[0m\u001b[0mload_state_dict\u001b[0m\u001b[0;34m(\u001b[0m\u001b[0mcheckpoint\u001b[0m\u001b[0;34m[\u001b[0m\u001b[0;34m'state_dict'\u001b[0m\u001b[0;34m]\u001b[0m\u001b[0;34m,\u001b[0m \u001b[0mstrict\u001b[0m\u001b[0;34m=\u001b[0m\u001b[0mstrict\u001b[0m\u001b[0;34m)\u001b[0m\u001b[0;34m\u001b[0m\u001b[0;34m\u001b[0m\u001b[0m\n\u001b[0m\u001b[1;32m    206\u001b[0m \u001b[0;34m\u001b[0m\u001b[0m\n\u001b[1;32m    207\u001b[0m         \u001b[0;32mreturn\u001b[0m \u001b[0mmodel\u001b[0m\u001b[0;34m\u001b[0m\u001b[0;34m\u001b[0m\u001b[0m\n",
      "\u001b[0;32m~/miniconda3/lib/python3.8/site-packages/torch/nn/modules/module.py\u001b[0m in \u001b[0;36mload_state_dict\u001b[0;34m(self, state_dict, strict)\u001b[0m\n\u001b[1;32m   1049\u001b[0m \u001b[0;34m\u001b[0m\u001b[0m\n\u001b[1;32m   1050\u001b[0m         \u001b[0;32mif\u001b[0m \u001b[0mlen\u001b[0m\u001b[0;34m(\u001b[0m\u001b[0merror_msgs\u001b[0m\u001b[0;34m)\u001b[0m \u001b[0;34m>\u001b[0m \u001b[0;36m0\u001b[0m\u001b[0;34m:\u001b[0m\u001b[0;34m\u001b[0m\u001b[0;34m\u001b[0m\u001b[0m\n\u001b[0;32m-> 1051\u001b[0;31m             raise RuntimeError('Error(s) in loading state_dict for {}:\\n\\t{}'.format(\n\u001b[0m\u001b[1;32m   1052\u001b[0m                                self.__class__.__name__, \"\\n\\t\".join(error_msgs)))\n\u001b[1;32m   1053\u001b[0m         \u001b[0;32mreturn\u001b[0m \u001b[0m_IncompatibleKeys\u001b[0m\u001b[0;34m(\u001b[0m\u001b[0mmissing_keys\u001b[0m\u001b[0;34m,\u001b[0m \u001b[0munexpected_keys\u001b[0m\u001b[0;34m)\u001b[0m\u001b[0;34m\u001b[0m\u001b[0;34m\u001b[0m\u001b[0m\n",
      "\u001b[0;31mRuntimeError\u001b[0m: Error(s) in loading state_dict for MultiomicTrainer:\n\tMissing key(s) in state_dict: \"network._MultiomicPredictionModel__loss.weight\". \n\tUnexpected key(s) in state_dict: \"network.decoder_views.decoder.layers.0.self_attn.in_proj_weight\", \"network.decoder_views.decoder.layers.0.self_attn.in_proj_bias\", \"network.decoder_views.decoder.layers.0.self_attn.out_proj.weight\", \"network.decoder_views.decoder.layers.0.self_attn.out_proj.bias\", \"network.decoder_views.decoder.layers.0.multihead_attn.in_proj_weight\", \"network.decoder_views.decoder.layers.0.multihead_attn.in_proj_bias\", \"network.decoder_views.decoder.layers.0.multihead_attn.out_proj.weight\", \"network.decoder_views.decoder.layers.0.multihead_attn.out_proj.bias\", \"network.decoder_views.decoder.layers.0.linear1.weight\", \"network.decoder_views.decoder.layers.0.linear1.bias\", \"network.decoder_views.decoder.layers.0.linear2.weight\", \"network.decoder_views.decoder.layers.0.linear2.bias\", \"network.decoder_views.decoder.layers.0.norm1.weight\", \"network.decoder_views.decoder.layers.0.norm1.bias\", \"network.decoder_views.decoder.layers.0.norm2.weight\", \"network.decoder_views.decoder.layers.0.norm2.bias\", \"network.decoder_views.decoder.layers.0.norm3.weight\", \"network.decoder_views.decoder.layers.0.norm3.bias\", \"network.decoder_views.decoder.norm.weight\", \"network.decoder_views.decoder.norm.bias\", \"network.decoder_views.output.weight\", \"network.decoder_views.output.bias\", \"network._MultiomicPredictionModelMultiModal__loss.weight\". "
     ]
    }
   ],
   "source": [
    "model = MultiomicTrainer.run_experiment(**training_params, output_path=output_path)"
   ]
  },
  {
   "cell_type": "code",
   "execution_count": null,
   "id": "77d7deea",
   "metadata": {},
   "outputs": [],
   "source": [
    "torch.cuda.is_available()"
   ]
  },
  {
   "cell_type": "code",
   "execution_count": null,
   "id": "14138a13",
   "metadata": {},
   "outputs": [],
   "source": []
  }
 ],
 "metadata": {
  "kernelspec": {
   "display_name": "Python 3",
   "language": "python",
   "name": "python3"
  },
  "language_info": {
   "codemirror_mode": {
    "name": "ipython",
    "version": 3
   },
   "file_extension": ".py",
   "mimetype": "text/x-python",
   "name": "python",
   "nbconvert_exporter": "python",
   "pygments_lexer": "ipython3",
   "version": "3.8.5"
  }
 },
 "nbformat": 4,
 "nbformat_minor": 5
}
