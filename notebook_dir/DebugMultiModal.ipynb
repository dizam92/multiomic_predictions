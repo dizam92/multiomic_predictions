{
 "cells": [
  {
   "cell_type": "markdown",
   "id": "4ebd60d6",
   "metadata": {},
   "source": [
    "# Parameters"
   ]
  },
  {
   "cell_type": "code",
   "execution_count": 1,
   "id": "30ba1622",
   "metadata": {},
   "outputs": [],
   "source": [
    "data_size = 2000; dataset_views_to_consider = 'all'; seed = 42\n",
    "d_input_enc=2000; nb_classes_dec=33; class_weights=[]; d_model_enc_dec=1024; d_ff_enc_dec=1024; n_heads_enc_dec=16; n_layers_enc=2; n_layers_dec=2; activation=\"relu\"; dropout=0.1 \n",
    "model_params = {\n",
    "    \"d_input_enc\": 2000, \n",
    "    \"lr\": 6.033193735866575e-05,\n",
    "    \"nb_classes_dec\": 33,\n",
    "    \"early_stopping\": True,\n",
    "    \"dropout\": 0.16171970479206027,\n",
    "    \"weight_decay\": 5.4598394312421854e-05,\n",
    "    \"activation\": \"relu\",\n",
    "    \"optimizer\": \"Adam\",\n",
    "    \"lr_scheduler\": \"cosine_with_restarts\",\n",
    "    \"loss\": \"ce\",\n",
    "    \"n_epochs\": 1, \n",
    "    \"batch_size\": 256,\n",
    "    \"class_weights\":[4.03557312, 0.85154295, 0.30184775, 1.18997669, 8.25050505,\n",
    "            0.72372851, 7.73484848, 1.81996435, 0.62294082, 0.61468995,\n",
    "            4.07992008, 0.49969411, 1.07615283, 1.85636364, 0.7018388 ,\n",
    "            0.84765463, 0.60271547, 0.62398778, 4.26750261, 0.61878788,\n",
    "            1.89424861, 1.98541565, 0.65595888, 2.05123054, 1.37001006,\n",
    "            0.77509964, 0.76393565, 2.67102681, 0.64012539, 2.94660895,\n",
    "            0.64012539, 6.51355662, 4.64090909],\n",
    "    \"d_model_enc_dec\": 512,\n",
    "    \"n_heads_enc_dec\": 16,\n",
    "    \"n_layers_enc\": 10,\n",
    "    \"n_layers_dec\": 1\n",
    "}\n",
    "d_ff_enc_dec_value = model_params[\"d_model_enc_dec\"] * 4\n",
    "model_params[\"d_ff_enc_dec\"] = d_ff_enc_dec_value\n",
    "\n",
    "fit_params = {\n",
    "    \"nb_ckpts\":1, \n",
    "    \"verbose\":1\n",
    "}\n",
    "\n",
    "predict_params = {\n",
    "    \"nb_ckpts\":1, \n",
    "    \"scores_fname\": \"transformer_scores.json\"\n",
    "}\n",
    "\n",
    "training_params = {\n",
    "    \"model_params\": model_params,\n",
    "    \"fit_params\": fit_params,\n",
    "    \"predict_params\": predict_params,\n",
    "    \"data_size\": int('2000'),\n",
    "    \"dataset_views_to_consider\": 'all',\n",
    "    \"exp_type\": \"data_aug\",\n",
    "    \"seed\": 42\n",
    "}\n",
    "output_path = './'"
   ]
  },
  {
   "cell_type": "markdown",
   "id": "c3a983a1",
   "metadata": {},
   "source": [
    "# Import section"
   ]
  },
  {
   "cell_type": "code",
   "execution_count": 2,
   "id": "daa0d97c",
   "metadata": {},
   "outputs": [],
   "source": [
    "import argparse\n",
    "import os\n",
    "import json\n",
    "import torch\n",
    "import random\n",
    "import natsort\n",
    "import numpy as np\n",
    "import pandas as pd\n",
    "from tqdm import tqdm\n",
    "from argparse import Namespace\n",
    "\n",
    "\n",
    "import optuna\n",
    "from optuna.study import StudyDirection\n",
    "from packaging import version\n",
    "from multiomic_modeling.models.trainer_multimodal import MultiomicTrainerMultiModal\n",
    "from multiomic_modeling.models.base_multimodal import BaseMultiModalTrainer\n",
    "from multiomic_modeling.data.data_loader import MultiomicDatasetDataAug, MultiomicDatasetNormal, MultiomicDatasetBuilder, SubsetRandomSampler\n",
    "from multiomic_modeling.models.models import MultiomicPredictionModel, MultiomicPredictionModelMultiModal\n",
    "from multiomic_modeling.models.utils import expt_params_formatter, c_collate\n",
    "from multiomic_modeling.loss_and_metrics import ClfMetrics, NumpyEncoder, RegMetrics\n",
    "from multiomic_modeling.utilities import params_to_hash\n",
    "from multiomic_modeling.torch_utils import to_numpy, totensor, get_optimizer\n",
    "from multiomic_modeling import logging\n",
    "from torch.utils.data import DataLoader\n",
    "from transformers.optimization import Adafactor, AdamW, \\\n",
    "    get_cosine_schedule_with_warmup, get_cosine_with_hard_restarts_schedule_with_warmup\n",
    "\n",
    "import pytorch_lightning as pl\n",
    "import torch\n",
    "\n",
    "if version.parse(pl.__version__) < version.parse(\"1.0.2\"):\n",
    "    raise RuntimeError(\"PyTorch Lightning>=1.0.2 is required for this example.\")\n",
    "\n"
   ]
  },
  {
   "cell_type": "code",
   "execution_count": null,
   "id": "8331df6d",
   "metadata": {},
   "outputs": [
    {
     "name": "stdout",
     "output_type": "stream",
     "text": [
      ">>> Training configuration : \n",
      "{\n",
      "  \"data_size\": 2000,\n",
      "  \"dataset_views_to_consider\": \"all\",\n",
      "  \"exp_type\": \"data_aug\",\n",
      "  \"fit_params\": {\n",
      "    \"nb_ckpts\": 1,\n",
      "    \"verbose\": 1\n",
      "  },\n",
      "  \"kwargs\": {},\n",
      "  \"model_params\": {\n",
      "    \"activation\": \"relu\",\n",
      "    \"batch_size\": 256,\n",
      "    \"class_weights\": [\n",
      "      4.03557312,\n",
      "      0.85154295,\n",
      "      0.30184775,\n",
      "      1.18997669,\n",
      "      8.25050505,\n",
      "      0.72372851,\n",
      "      7.73484848,\n",
      "      1.81996435,\n",
      "      0.62294082,\n",
      "      0.61468995,\n",
      "      4.07992008,\n",
      "      0.49969411,\n",
      "      1.07615283,\n",
      "      1.85636364,\n",
      "      0.7018388,\n",
      "      0.84765463,\n",
      "      0.60271547,\n",
      "      0.62398778,\n",
      "      4.26750261,\n",
      "      0.61878788,\n",
      "      1.89424861,\n",
      "      1.98541565,\n",
      "      0.65595888,\n",
      "      2.05123054,\n",
      "      1.37001006,\n",
      "      0.77509964,\n",
      "      0.76393565,\n",
      "      2.67102681,\n",
      "      0.64012539,\n",
      "      2.94660895,\n",
      "      0.64012539,\n",
      "      6.51355662,\n",
      "      4.64090909\n",
      "    ],\n",
      "    \"d_ff_enc_dec\": 2048,\n",
      "    \"d_input_enc\": 2000,\n",
      "    \"d_model_enc_dec\": 512,\n",
      "    \"dropout\": 0.16171970479206027,\n",
      "    \"early_stopping\": true,\n",
      "    \"loss\": \"ce\",\n",
      "    \"lr\": 6.033193735866575e-05,\n",
      "    \"lr_scheduler\": \"cosine_with_restarts\",\n",
      "    \"n_epochs\": 1,\n",
      "    \"n_heads_enc_dec\": 16,\n",
      "    \"n_layers_dec\": 1,\n",
      "    \"n_layers_enc\": 10,\n",
      "    \"nb_classes_dec\": 33,\n",
      "    \"optimizer\": \"Adam\",\n",
      "    \"weight_decay\": 5.4598394312421854e-05\n",
      "  },\n",
      "  \"predict_params\": {\n",
      "    \"nb_ckpts\": 1,\n",
      "    \"scores_fname\": \"transformer_scores.json\"\n",
      "  },\n",
      "  \"seed\": 42\n",
      "}\n",
      "[INFO] Training\n"
     ]
    },
    {
     "name": "stderr",
     "output_type": "stream",
     "text": [
      "/home/maoss2/miniconda3/lib/python3.8/site-packages/pytorch_lightning/utilities/distributed.py:52: UserWarning: Checkpoint directory ./649c350f57b9ffb4277a24511a90696abae3269a/checkpoints exists and is not empty.\n",
      "  warnings.warn(*args, **kwargs)\n",
      "GPU available: True, used: True\n",
      "TPU available: False, using: 0 TPU cores\n",
      "GPU available: True, used: True\n",
      "TPU available: False, using: 0 TPU cores\n",
      "LOCAL_RANK: 0 - CUDA_VISIBLE_DEVICES: [0]\n",
      "Set SLURM handle signals.\n",
      "\n",
      "  | Name    | Type                               | Params\n",
      "---------------------------------------------------------------\n",
      "0 | network | MultiomicPredictionModelMultiModal | 42.0 M\n",
      "---------------------------------------------------------------\n",
      "42.0 M    Trainable params\n",
      "0         Non-trainable params\n",
      "42.0 M    Total params\n",
      "168.010   Total estimated model params size (MB)\n"
     ]
    },
    {
     "data": {
      "application/vnd.jupyter.widget-view+json": {
       "model_id": "",
       "version_major": 2,
       "version_minor": 0
      },
      "text/plain": [
       "Validation sanity check: 0it [00:00, ?it/s]"
      ]
     },
     "metadata": {},
     "output_type": "display_data"
    },
    {
     "data": {
      "application/vnd.jupyter.widget-view+json": {
       "model_id": "37a4d0a2c0ec4202a26afe791bcd0b31",
       "version_major": 2,
       "version_minor": 0
      },
      "text/plain": [
       "Training: 0it [00:00, ?it/s]"
      ]
     },
     "metadata": {},
     "output_type": "display_data"
    }
   ],
   "source": [
    "model = MultiomicTrainerMultiModal.run_experiment(**training_params, output_path=output_path)"
   ]
  },
  {
   "cell_type": "code",
   "execution_count": null,
   "id": "68f66d42",
   "metadata": {},
   "outputs": [],
   "source": [
    "# dataset_views_to_consider='all'\n",
    "dataset = MultiomicDatasetNormal(data_size=data_size, views_to_consider=dataset_views_to_consider)\n",
    "\n",
    "train, test, valid = MultiomicDatasetBuilder().multiomic_data_normal_builder(dataset=dataset, \n",
    "                                                                                         test_size=0.2, \n",
    "                                                                                         valid_size=0.1, \n",
    "                                                                                         random_state=seed)\n",
    "\n",
    "dataset_augmented = MultiomicDatasetDataAug(train_dataset=train, data_size=data_size, views_to_consider=dataset_views_to_consider)\n",
    "\n",
    "train_augmented = MultiomicDatasetBuilder.multiomic_data_aug_builder(augmented_dataset=dataset_augmented)"
   ]
  },
  {
   "cell_type": "code",
   "execution_count": null,
   "id": "14a7a96f",
   "metadata": {},
   "outputs": [],
   "source": [
    "ll"
   ]
  },
  {
   "cell_type": "code",
   "execution_count": null,
   "id": "10c5f3fd",
   "metadata": {},
   "outputs": [],
   "source": [
    "cd .."
   ]
  },
  {
   "cell_type": "code",
   "execution_count": null,
   "id": "bdfa57bf",
   "metadata": {},
   "outputs": [],
   "source": [
    "ll"
   ]
  },
  {
   "cell_type": "code",
   "execution_count": null,
   "id": "16560df6",
   "metadata": {},
   "outputs": [],
   "source": [
    "config_file = '649c350f57b9ffb4277a24511a90696abae3269a/config.json'"
   ]
  },
  {
   "cell_type": "code",
   "execution_count": null,
   "id": "ce6108c3",
   "metadata": {},
   "outputs": [],
   "source": [
    "with open(config_file, 'r') as f:\n",
    "    all_params = json.load(f)"
   ]
  },
  {
   "cell_type": "code",
   "execution_count": null,
   "id": "e93c8f1d",
   "metadata": {},
   "outputs": [],
   "source": [
    "random.seed(all_params['seed'])\n",
    "np.random.seed(all_params['seed'])\n",
    "torch.manual_seed(all_params['seed'])\n",
    "trainer_model = MultiomicTrainerMultiModal(Namespace(**all_params['model_params']))"
   ]
  },
  {
   "cell_type": "code",
   "execution_count": null,
   "id": "17577cba",
   "metadata": {},
   "outputs": [],
   "source": [
    "save_file_name = 'naive_scores'\n",
    "views_to_consider = 'all'"
   ]
  },
  {
   "cell_type": "code",
   "execution_count": null,
   "id": "dca81a41",
   "metadata": {},
   "outputs": [],
   "source": [
    "scores_fname = os.path.join(all_params['fit_params']['output_path'], f'{save_file_name}_{views_to_consider}.txt')"
   ]
  },
  {
   "cell_type": "code",
   "execution_count": null,
   "id": "585f4bd2",
   "metadata": {},
   "outputs": [],
   "source": [
    "artifact_dir=all_params['fit_params']['output_path'] \n",
    "nb_ckpts=all_params['predict_params'].get('nb_ckpts', 1)"
   ]
  },
  {
   "cell_type": "code",
   "execution_count": null,
   "id": "7d972a86",
   "metadata": {},
   "outputs": [],
   "source": [
    "ckpt_path = os.path.join(artifact_dir, 'checkpoints')\n",
    "ckpt_fnames = natsort.natsorted([os.path.join(ckpt_path, x) for x in os.listdir(ckpt_path)\n",
    "                                 if x.endswith('.ckpt')])\n",
    "print(*ckpt_fnames)\n",
    "ckpt_fnames = ckpt_fnames[:nb_ckpts]\n",
    "trainer_model.load_average_weights(ckpt_fnames)\n",
    "batch_size = trainer_model.hparams.batch_size  \n",
    "ploader = DataLoader(test, collate_fn=c_collate, batch_size=batch_size, shuffle=False)  \n"
   ]
  },
  {
   "cell_type": "code",
   "execution_count": null,
   "id": "28f96e0c",
   "metadata": {},
   "outputs": [],
   "source": [
    "from sklearn.metrics import f1_score, accuracy_score, recall_score, precision_score, confusion_matrix, classification_report, matthews_corrcoef, mean_absolute_error, mean_squared_error, r2_score\n",
    "class RegMetrics:\n",
    "    @staticmethod\n",
    "    def score(y_test, y_pred):\n",
    "        return {\n",
    "            'r2': np.round(r2_score(y_test, y_pred) * 100, 3),\n",
    "            'mse': np.round(mean_squared_error(y_test, y_pred) * 100, 3),\n",
    "            'mae': np.round(mean_absolute_error(y_test, y_pred) * 100, 3)\n",
    "        }\n",
    "    "
   ]
  },
  {
   "cell_type": "code",
   "execution_count": null,
   "id": "755be8d4",
   "metadata": {},
   "outputs": [],
   "source": [
    "for i, (x, patient_label, patient_name) in tqdm(enumerate(ploader)):\n",
    "    pred_1 , pred_2 = trainer_model.network.predict(inputs=x)\n",
    "    print('prediction')\n",
    "    print(f'pred 1: {pred_1.shape}')\n",
    "    print(f'pred 2: {pred_2.shape}')\n",
    "    preds_views_shape = pred_2.shape\n",
    "    pred_2 = pred_2.reshape(preds_views_shape[1], preds_views_shape[0], -1) \n",
    "    print(f'pred 2: {pred_2.shape}')\n",
    "#     print(x[0].shape)\n",
    "#     print(x[1])\n",
    "#     print(x[1].shape)\n",
    "    print('----------------------------------------------------')"
   ]
  },
  {
   "cell_type": "code",
   "execution_count": null,
   "id": "81f3e7cc",
   "metadata": {},
   "outputs": [],
   "source": [
    "example_1 = next(iter(test))"
   ]
  },
  {
   "cell_type": "code",
   "execution_count": null,
   "id": "b91f9f5b",
   "metadata": {},
   "outputs": [],
   "source": []
  },
  {
   "cell_type": "code",
   "execution_count": null,
   "id": "40d68b91",
   "metadata": {},
   "outputs": [],
   "source": [
    "example_1[0]"
   ]
  },
  {
   "cell_type": "code",
   "execution_count": null,
   "id": "39f2a732",
   "metadata": {},
   "outputs": [],
   "source": [
    "trainer_model.network.predict(inputs=example_1[0])"
   ]
  },
  {
   "cell_type": "code",
   "execution_count": null,
   "id": "5e66b744",
   "metadata": {},
   "outputs": [],
   "source": []
  }
 ],
 "metadata": {
  "kernelspec": {
   "display_name": "Python 3",
   "language": "python",
   "name": "python3"
  },
  "language_info": {
   "codemirror_mode": {
    "name": "ipython",
    "version": 3
   },
   "file_extension": ".py",
   "mimetype": "text/x-python",
   "name": "python",
   "nbconvert_exporter": "python",
   "pygments_lexer": "ipython3",
   "version": "3.8.5"
  }
 },
 "nbformat": 4,
 "nbformat_minor": 5
}
