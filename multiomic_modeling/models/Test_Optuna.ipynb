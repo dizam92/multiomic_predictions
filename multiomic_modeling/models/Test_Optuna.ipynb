{
 "cells": [
  {
   "cell_type": "code",
   "execution_count": 1,
   "id": "e3946840",
   "metadata": {},
   "outputs": [],
   "source": [
    "import argparse\n",
    "import os\n",
    "import random\n",
    "import numpy as np\n",
    "from argparse import Namespace\n",
    "\n",
    "import optuna\n",
    "from optuna.integration import PyTorchLightningPruningCallback\n",
    "from packaging import version\n",
    "from multiomic_modeling.models.trainer import MultiomicTrainer\n",
    "from multiomic_modeling.data.data_loader import MultiomicDataset, SubsetRandomSampler, multiomic_dataset_builder\n",
    "\n",
    "import pytorch_lightning as pl\n",
    "import torch\n",
    "\n",
    "if version.parse(pl.__version__) < version.parse(\"1.0.2\"):\n",
    "    raise RuntimeError(\"PyTorch Lightning>=1.0.2 is required for this example.\")"
   ]
  },
  {
   "cell_type": "code",
   "execution_count": 2,
   "id": "fe3ccb58",
   "metadata": {},
   "outputs": [],
   "source": [
    "training_params_global = []\n",
    "def objective(trial: optuna.trial.Trial) -> float:\n",
    "    \"\"\" Main fonction to poptimize with Optuna \"\"\"\n",
    "    model_params = {\n",
    "        \"d_input_enc\": 2000,\n",
    "        \"lr\": trial.suggest_float(\"lr\", 1e-5, 1e-3, log=True),\n",
    "        \"nb_classes_dec\": 33,\n",
    "        \"dropout\": trial.suggest_float(\"dropout\", 0.1, 0.5),\n",
    "        \"weight_decay\": trial.suggest_float(\"weight_decay\", 0.1, 0.5),\n",
    "        \"activation\": \"relu\",\n",
    "        \"optimizer\": \"Adam\",\n",
    "        \"lr_scheduler\": \"cosine_with_restarts\",\n",
    "        \"loss\": \"ce\",\n",
    "        \"n_epochs\": 1,\n",
    "        \"batch_size\": 128,\n",
    "        \"class_weights\":[4.1472332 , 0.87510425, 0.30869373, 1.2229021 , 8.47878788,\n",
    "            0.7000834 , 7.94886364, 1.87032086, 0.63379644, 0.63169777,\n",
    "            4.19280719, 0.40417951, 1.08393595, 1.90772727, 0.72125795,\n",
    "            0.87110834, 0.59523472, 0.61243251, 4.38557994, 0.63169777,\n",
    "            1.94666048, 2.04035002, 0.67410858, 2.08494784, 1.40791681,\n",
    "            0.79654583, 0.74666429, 2.74493133, 0.65783699, 3.02813853,\n",
    "            0.65445189, 6.6937799 , 4.76931818],\n",
    "        \"d_model_enc_dec\": trial.suggest_categorical(\"n_heads_enc_dec\", [128, 256, 512, 1024, 2048]),\n",
    "        \"n_heads_enc_dec\": trial.suggest_categorical(\"n_heads_enc_dec\", [128, 256, 512, 1024, 2048]),\n",
    "        \"n_layers_enc_dec\": trial.suggest_int(\"n_layers_enc_dec\", 1, 10, step=1)\n",
    "    }\n",
    "    d_ff_enc_dec_value = model_params[\"d_model_enc_dec\"] * 4\n",
    "    model_params[\"d_ff_enc_dec\"] = d_ff_enc_dec_value\n",
    "\n",
    "    fit_params = {\n",
    "        \"nb_ckpts\":1, \n",
    "        \"verbose\":1\n",
    "    }\n",
    "\n",
    "    predict_params = {\n",
    "        \"nb_ckpts\":1, \n",
    "        \"scores_fname\": \"transformer_scores.json\"\n",
    "    }\n",
    "\n",
    "    training_params = {\n",
    "        \"model_params\": model_params,\n",
    "        \"fit_params\": fit_params,\n",
    "        \"predict_params\": predict_params,\n",
    "        \"dataset_views_to_consider\": \"all\",\n",
    "        \"type_of_model\": \"transformer\",\n",
    "        \"complete_dataset\": False,\n",
    "        \"seed\": trial.suggest_int(\"seed\", 42, 1000)\n",
    "    }\n",
    "    training_params_global.append(training_params)\n",
    "    # model = MultiomicTrainer.run_experiment(**training_params, trial=trial, output_path='/home/maoss2/scratch/optuna_test_output')\n",
    "    model = MultiomicTrainer.run_experiment(trial=trial, **training_params, output_path='./')\n",
    "    \n",
    "    return model.trainer.callback_metrics[\"val_multi_acc\"].item()\n",
    "    # return model.trainer.callback_metrics[\"val_acc\"].item()\n",
    "\n",
    "def detailed_objective(trial):\n",
    "    \"\"\" For the evaluation on the test set \"\"\"\n",
    "    all_params = training_params_global[0]\n",
    "    random.seed(all_params['seed'])\n",
    "    np.random.seed(all_params['seed'])\n",
    "    torch.manual_seed(all_params['seed'])\n",
    "    dataset = MultiomicDataset(views_to_consider=all_params[\"dataset_views_to_consider\"], \n",
    "                                   type_of_model=all_params[\"type_of_model\"], \n",
    "                                   complete_dataset=all_params[\"complete_dataset\"])\n",
    "    train, valid, test = multiomic_dataset_builder(dataset=dataset, test_size=0.2, valid_size=0.1)\n",
    "    model = MultiomicTrainer(Namespace(**all_params['model_params']))\n",
    "    scores_fname = os.path.join(all_params['fit_params']['output_path'], \n",
    "                                all_params['predict_params'].get('scores_fname', \"naive_scores.txt\"))\n",
    "    scores = model.score(dataset=test, \n",
    "                         artifact_dir=all_params['fit_params']['output_path'], \n",
    "                         nb_ckpts=all_params['predict_params'].get('nb_ckpts', 1), \n",
    "                         scores_fname=None) # scores_fname\n",
    "    return scores['acc'], scores['prec'], scores['rec'], scores['f1_score']"
   ]
  },
  {
   "cell_type": "code",
   "execution_count": 3,
   "id": "1117dc83",
   "metadata": {},
   "outputs": [
    {
     "name": "stderr",
     "output_type": "stream",
     "text": [
      "\u001b[32m[I 2021-05-21 12:13:33,799]\u001b[0m A new study created in memory with name: no-name-5d390eba-776a-4cfa-9b50-4b81a510a62d\u001b[0m\n"
     ]
    }
   ],
   "source": [
    "pruning = True\n",
    "pruner: optuna.pruners.BasePruner = (\n",
    "        optuna.pruners.MedianPruner() if pruning else optuna.pruners.NopPruner()\n",
    "    )\n",
    "study = optuna.create_study(direction=\"maximize\", pruner=pruner)"
   ]
  },
  {
   "cell_type": "code",
   "execution_count": 4,
   "id": "0df97fac",
   "metadata": {},
   "outputs": [
    {
     "name": "stderr",
     "output_type": "stream",
     "text": [
      "/Users/maoss2/miniconda3/lib/python3.8/site-packages/optuna/study.py:393: FutureWarning: `n_jobs` argument has been deprecated in v2.7.0. This feature will be removed in v4.0.0. See https://github.com/optuna/optuna/releases/tag/v2.7.0.\n",
      "  warnings.warn(\n"
     ]
    },
    {
     "name": "stdout",
     "output_type": "stream",
     "text": [
      ">>> Training configuration : >>> Training configuration : \n",
      "{\n",
      "  \"complete_dataset\": false,\n",
      "  \"dataset_views_to_consider\": \"all\",\n",
      "  \"fit_params\": {\n",
      "    \"nb_ckpts\": 1,\n",
      "    \"verbose\": 1\n",
      "  },\n",
      "  \"kwargs\": {},\n",
      "  \"model_params\": {\n",
      "    \"activation\": \"relu\",\n",
      "    \"batch_size\": 128,\n",
      "    \"class_weights\": [\n",
      "      4.1472332,\n",
      "      0.87510425,\n",
      "      0.30869373,\n",
      "      1.2229021,\n",
      "      8.47878788,\n",
      "      0.7000834,\n",
      "      7.94886364,\n",
      "      1.87032086,\n",
      "      0.63379644,\n",
      "      0.63169777,\n",
      "      4.19280719,\n",
      "      0.40417951,\n",
      "      1.08393595,\n",
      "      1.90772727,\n",
      "      0.72125795,\n",
      "      0.87110834,\n",
      "      0.59523472,\n",
      "      0.61243251,\n",
      "      4.38557994,\n",
      "      0.63169777,\n",
      "      1.94666048,\n",
      "      2.04035002,\n",
      "      0.67410858,\n",
      "      2.08494784,\n",
      "      1.40791681,\n",
      "      0.79654583,\n",
      "      0.74666429,\n",
      "      2.74493133,\n",
      "      0.65783699,\n",
      "      3.02813853,\n",
      "      0.65445189,\n",
      "      6.6937799,\n",
      "      4.76931818\n",
      "    ],\n",
      "    \"d_ff_enc_dec\": 4096,\n",
      "    \"d_input_enc\": 2000,\n",
      "    \"d_model_enc_dec\": 1024,\n",
      "    \"dropout\": 0.4518067054436615,\n",
      "    \"loss\": \"ce\",\n",
      "    \"lr\": 0.0008713297930903779,\n",
      "    \"lr_scheduler\": \"cosine_with_restarts\",\n",
      "    \"n_epochs\": 1,\n",
      "    \"n_heads_enc_dec\": 1024,\n",
      "    \"n_layers_enc_dec\": 8,\n",
      "    \"nb_classes_dec\": 33,\n",
      "    \"optimizer\": \"Adam\",\n",
      "    \"weight_decay\": 0.48639226155631143\n",
      "  },\n",
      "  \"predict_params\": {\n",
      "    \"nb_ckpts\": 1,\n",
      "    \"scores_fname\": \"transformer_scores.json\"\n",
      "  },\n",
      "  \"seed\": 762,\n",
      "  \"type_of_model\": \"transformer\"\n",
      "}\n",
      "\n",
      "{\n",
      "  \"complete_dataset\": false,\n",
      "  \"dataset_views_to_consider\": \"all\",\n",
      "  \"fit_params\": {\n",
      "    \"nb_ckpts\": 1,\n",
      "    \"verbose\": 1\n",
      "  },\n",
      "  \"kwargs\": {},\n",
      "  \"model_params\": {\n",
      "    \"activation\": \"relu\",\n",
      "    \"batch_size\": 128,\n",
      "    \"class_weights\": [\n",
      "      4.1472332,\n",
      "      0.87510425,\n",
      "      0.30869373,\n",
      "      1.2229021,\n",
      "      8.47878788,\n",
      "      0.7000834,\n",
      "      7.94886364,\n",
      "      1.87032086,\n",
      "      0.63379644,\n",
      "      0.63169777,\n",
      "      4.19280719,\n",
      "      0.40417951,\n",
      "      1.08393595,\n",
      "      1.90772727,\n",
      "      0.72125795,\n",
      "      0.87110834,\n",
      "      0.59523472,\n",
      "      0.61243251,\n",
      "      4.38557994,\n",
      "      0.63169777,\n",
      "      1.94666048,\n",
      "      2.04035002,\n",
      "      0.67410858,\n",
      "      2.08494784,\n",
      "      1.40791681,\n",
      "      0.79654583,\n",
      "      0.74666429,\n",
      "      2.74493133,\n",
      "      0.65783699,\n",
      "      3.02813853,\n",
      "      0.65445189,\n",
      "      6.6937799,\n",
      "      4.76931818\n",
      "    ],\n",
      "    \"d_ff_enc_dec\": 512,\n",
      "    \"d_input_enc\": 2000,\n",
      "    \"d_model_enc_dec\": 128,\n",
      "    \"dropout\": 0.370711236300861,\n",
      "    \"loss\": \"ce\",\n",
      "    \"lr\": 5.685696833964072e-05,\n",
      "    \"lr_scheduler\": \"cosine_with_restarts\",\n",
      "    \"n_epochs\": 1,\n",
      "    \"n_heads_enc_dec\": 128,\n",
      "    \"n_layers_enc_dec\": 9,\n",
      "    \"nb_classes_dec\": 33,\n",
      "    \"optimizer\": \"Adam\",\n",
      "    \"weight_decay\": 0.4094757073907034\n",
      "  },\n",
      "  \"predict_params\": {\n",
      "    \"nb_ckpts\": 1,\n",
      "    \"scores_fname\": \"transformer_scores.json\"\n",
      "  },\n",
      "  \"seed\": 56,\n",
      "  \"type_of_model\": \"transformer\"\n",
      "}\n",
      "[INFO] Training\n"
     ]
    },
    {
     "name": "stderr",
     "output_type": "stream",
     "text": [
      "/Users/maoss2/miniconda3/lib/python3.8/site-packages/sklearn/utils/validation.py:70: FutureWarning: Pass classes=[ 0  1  2  3  4  5  6  7  8  9 10 11 12 13 14 15 16 17 18 19 20 21 22 23\n",
      " 24 25 26 27 28 29 30 31 32], y=[ 0  0  0 ... 32 32 32] as keyword args. From version 1.0 (renaming of 0.25) passing these as positional arguments will result in an error\n",
      "  warnings.warn(f\"Pass {args_msg} as keyword args. From version \"\n"
     ]
    },
    {
     "name": "stdout",
     "output_type": "stream",
     "text": [
      "[INFO] Training\n"
     ]
    },
    {
     "name": "stderr",
     "output_type": "stream",
     "text": [
      "GPU available: False, used: False\n",
      "TPU available: False, using: 0 TPU cores\n",
      "GPU available: False, used: False\n",
      "TPU available: False, using: 0 TPU cores\n",
      "\n",
      "  | Name    | Type                     | Params\n",
      "-----------------------------------------------------\n",
      "0 | network | MultiomicPredictionModel | 4.4 M \n",
      "-----------------------------------------------------\n",
      "4.4 M     Trainable params\n",
      "0         Non-trainable params\n",
      "4.4 M     Total params\n",
      "17.706    Total estimated model params size (MB)\n"
     ]
    },
    {
     "data": {
      "application/vnd.jupyter.widget-view+json": {
       "model_id": "",
       "version_major": 2,
       "version_minor": 0
      },
      "text/plain": [
       "Validation sanity check: 0it [00:00, ?it/s]"
      ]
     },
     "metadata": {},
     "output_type": "display_data"
    },
    {
     "name": "stderr",
     "output_type": "stream",
     "text": [
      "GPU available: False, used: False\n",
      "TPU available: False, using: 0 TPU cores\n",
      "GPU available: False, used: False\n",
      "TPU available: False, using: 0 TPU cores\n",
      "\n",
      "  | Name    | Type                     | Params\n",
      "-----------------------------------------------------\n",
      "0 | network | MultiomicPredictionModel | 237 M \n",
      "-----------------------------------------------------\n",
      "237 M     Trainable params\n",
      "0         Non-trainable params\n",
      "237 M     Total params\n",
      "948.920   Total estimated model params size (MB)\n"
     ]
    },
    {
     "data": {
      "application/vnd.jupyter.widget-view+json": {
       "model_id": "",
       "version_major": 2,
       "version_minor": 0
      },
      "text/plain": [
       "Validation sanity check: 0it [00:00, ?it/s]"
      ]
     },
     "metadata": {},
     "output_type": "display_data"
    },
    {
     "data": {
      "application/vnd.jupyter.widget-view+json": {
       "model_id": "7f2cabdcfdce46018d2b57b77fd74989",
       "version_major": 2,
       "version_minor": 0
      },
      "text/plain": [
       "Training: 0it [00:00, ?it/s]"
      ]
     },
     "metadata": {},
     "output_type": "display_data"
    },
    {
     "data": {
      "application/vnd.jupyter.widget-view+json": {
       "model_id": "da0dba44a90c4c1da5f166510904d6d8",
       "version_major": 2,
       "version_minor": 0
      },
      "text/plain": [
       "Training: 0it [00:00, ?it/s]"
      ]
     },
     "metadata": {},
     "output_type": "display_data"
    },
    {
     "data": {
      "application/vnd.jupyter.widget-view+json": {
       "model_id": "",
       "version_major": 2,
       "version_minor": 0
      },
      "text/plain": [
       "Validating: 0it [00:00, ?it/s]"
      ]
     },
     "metadata": {},
     "output_type": "display_data"
    },
    {
     "name": "stderr",
     "output_type": "stream",
     "text": [
      "/Users/maoss2/miniconda3/lib/python3.8/site-packages/torch/optim/lr_scheduler.py:216: UserWarning: Please also save or load the state of the optimizer when saving or loading the scheduler.\n",
      "  warnings.warn(SAVE_STATE_WARNING, UserWarning)\n",
      "\u001b[32m[I 2021-05-21 12:16:55,113]\u001b[0m Trial 0 finished with value: 2.0117878913879395 and parameters: {'lr': 5.685696833964072e-05, 'dropout': 0.370711236300861, 'weight_decay': 0.4094757073907034, 'n_heads_enc_dec': 128, 'n_layers_enc_dec': 9, 'seed': 56}. Best is trial 0 with value: 2.0117878913879395.\u001b[0m\n"
     ]
    },
    {
     "data": {
      "application/vnd.jupyter.widget-view+json": {
       "model_id": "",
       "version_major": 2,
       "version_minor": 0
      },
      "text/plain": [
       "Validating: 0it [00:00, ?it/s]"
      ]
     },
     "metadata": {},
     "output_type": "display_data"
    },
    {
     "name": "stderr",
     "output_type": "stream",
     "text": [
      "\u001b[32m[I 2021-05-21 12:25:52,264]\u001b[0m Trial 1 finished with value: 5.1316304206848145 and parameters: {'lr': 0.0008713297930903779, 'dropout': 0.4518067054436615, 'weight_decay': 0.48639226155631143, 'n_heads_enc_dec': 1024, 'n_layers_enc_dec': 8, 'seed': 762}. Best is trial 1 with value: 5.1316304206848145.\u001b[0m\n"
     ]
    }
   ],
   "source": [
    "study.optimize(objective, n_trials=2, timeout=None, n_jobs=-1)"
   ]
  },
  {
   "cell_type": "code",
   "execution_count": 5,
   "id": "2adf043f",
   "metadata": {},
   "outputs": [
    {
     "name": "stdout",
     "output_type": "stream",
     "text": [
      "Number of finished trials: 2\n",
      "Best trial:\n",
      "  Value: 5.1316304206848145\n",
      "  Params: \n",
      "    lr: 0.0008713297930903779\n",
      "    dropout: 0.4518067054436615\n",
      "    weight_decay: 0.48639226155631143\n",
      "    n_heads_enc_dec: 1024\n",
      "    n_layers_enc_dec: 8\n",
      "    seed: 762\n"
     ]
    }
   ],
   "source": [
    "print(\"Number of finished trials: {}\".format(len(study.trials)))\n",
    "\n",
    "print(\"Best trial:\")\n",
    "trial = study.best_trial\n",
    "\n",
    "print(\"  Value: {}\".format(trial.value))\n",
    "\n",
    "print(\"  Params: \")\n",
    "for key, value in trial.params.items():\n",
    "    print(\"    {}: {}\".format(key, value))"
   ]
  },
  {
   "cell_type": "code",
   "execution_count": 6,
   "id": "93d406b8",
   "metadata": {},
   "outputs": [
    {
     "name": "stderr",
     "output_type": "stream",
     "text": [
      "/Users/maoss2/miniconda3/lib/python3.8/site-packages/sklearn/utils/validation.py:70: FutureWarning: Pass classes=[ 0  1  2  3  4  5  6  7  8  9 10 11 12 13 14 15 16 17 18 19 20 21 22 23\n",
      " 24 25 26 27 28 29 30 31 32], y=[ 0  0  0 ... 32 32 32] as keyword args. From version 1.0 (renaming of 0.25) passing these as positional arguments will result in an error\n",
      "  warnings.warn(f\"Pass {args_msg} as keyword args. From version \"\n"
     ]
    },
    {
     "name": "stdout",
     "output_type": "stream",
     "text": [
      "./ca53af080de4e5de54cd39b81f8891bbc3deec51/checkpoints/epoch=0--val_loss=0.00.ckpt\n"
     ]
    },
    {
     "name": "stderr",
     "output_type": "stream",
     "text": [
      "7it [00:06,  1.05it/s]"
     ]
    },
    {
     "name": "stdout",
     "output_type": "stream",
     "text": [
      "(3.436, 6.135, 3.436, 3.553)\n"
     ]
    },
    {
     "name": "stderr",
     "output_type": "stream",
     "text": [
      "\n"
     ]
    }
   ],
   "source": [
    "print(detailed_objective(study.best_trial))"
   ]
  },
  {
   "cell_type": "code",
   "execution_count": null,
   "id": "1e8e7262",
   "metadata": {},
   "outputs": [],
   "source": []
  }
 ],
 "metadata": {
  "kernelspec": {
   "display_name": "Python 3",
   "language": "python",
   "name": "python3"
  },
  "language_info": {
   "codemirror_mode": {
    "name": "ipython",
    "version": 3
   },
   "file_extension": ".py",
   "mimetype": "text/x-python",
   "name": "python",
   "nbconvert_exporter": "python",
   "pygments_lexer": "ipython3",
   "version": "3.8.8"
  }
 },
 "nbformat": 4,
 "nbformat_minor": 5
}
